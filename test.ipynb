{
 "cells": [
  {
   "cell_type": "code",
   "execution_count": 1,
   "metadata": {},
   "outputs": [],
   "source": [
    "import torch\n"
   ]
  },
  {
   "cell_type": "code",
   "execution_count": 2,
   "metadata": {},
   "outputs": [
    {
     "name": "stdout",
     "output_type": "stream",
     "text": [
      "torch.int64\n",
      "torch.int64\n",
      "torch.int64\n"
     ]
    },
    {
     "data": {
      "text/plain": [
       "torch.return_types.max(\n",
       "values=tensor(3),\n",
       "indices=tensor(2))"
      ]
     },
     "execution_count": 2,
     "metadata": {},
     "output_type": "execute_result"
    }
   ],
   "source": [
    "\n",
    "b = torch.tensor([]).long()\n",
    "a = torch.tensor([1,2,3]).long()\n",
    "\n",
    "print(a.dtype)\n",
    "\n",
    "print(torch.cat((a, b)).dtype)\n",
    "print(torch.cat((b, a)).dtype)\n",
    "\n",
    "a.max(dim=-1)"
   ]
  },
  {
   "cell_type": "code",
   "execution_count": null,
   "metadata": {},
   "outputs": [
    {
     "data": {
      "text/plain": [
       "'Input'"
      ]
     },
     "execution_count": 457,
     "metadata": {},
     "output_type": "execute_result"
    }
   ],
   "source": [
    "input_ids = torch.tensor(gpt2tokenizer.encode(\"\"\"Your task is to add calls to a Calendar API to a piece of text.\n",
    "The API calls should help you get information required to complete the text.\n",
    "You can call the API by writing \"[Calendar()]\"\n",
    "Here are some examples of API calls:\n",
    "Input: Today is the first Friday of the year.\n",
    "Output: Today is the first [Calendar()] Friday of the year.\n",
    "Input: The president of the United States is Joe Biden.\n",
    "Output: The president of the United States is [Calendar()] Joe Biden.\n",
    "Input: The current day of the week is Wednesday.\n",
    "Output: The current day of the week is [Calendar()] Wednesday.\n",
    "\"\"\"))\n",
    "\n",
    "logits = model(input_ids).logits\n",
    "\n",
    "sample = gumbel_sample(logits, temperature=0)\n",
    "\n",
    "gpt2tokenizer.decode(sample[-1])\n"
   ]
  },
  {
   "cell_type": "code",
   "execution_count": 394,
   "metadata": {},
   "outputs": [
    {
     "name": "stdout",
     "output_type": "stream",
     "text": [
      "torch.Size([1, 10, 50257])\n",
      " first answer fox jumps out the lazy- the head\n",
      "10\n",
      "10\n"
     ]
    }
   ],
   "source": [
    "tokens_in = gpt2tokenizer.encode(\"The quick brown fox jumped over the well in my\")\n",
    "\n",
    "generated = model(torch.tensor(tokens_in).unsqueeze(0))\n",
    "\n",
    "print(generated.logits.shape)\n",
    "\n",
    "\n",
    "for beam in enumerate(generated.logits):\n",
    "    sample = gumbel_sample(beam[1], 0)\n",
    "    tokens_out = sample.squeeze()\n",
    "    print(gpt2tokenizer.decode(tokens_out))\n",
    "\n",
    "print(len(tokens_in))\n",
    "print(len(tokens_out))\n"
   ]
  },
  {
   "cell_type": "code",
   "execution_count": 413,
   "metadata": {},
   "outputs": [
    {
     "name": "stderr",
     "output_type": "stream",
     "text": [
      "The attention mask and the pad token id were not set. As a consequence, you may observe unexpected behavior. Please pass your input's `attention_mask` to obtain reliable results.\n",
      "Setting `pad_token_id` to `eos_token_id`:50256 for open-end generation.\n"
     ]
    },
    {
     "name": "stdout",
     "output_type": "stream",
     "text": [
      "0: Your task is to add calls to a Calendar API to a piece of text. \n",
      "The API calls should help you get information required to complete the text.\n",
      "You can call the API by writing \"[Calendar()]\"\n",
      "Here are some examples of API calls:\n",
      "Input: Today is the first Friday of the year.\n",
      "Output: Today is the first [Calendar()] Friday of the year.\n",
      "Input: The president of the United States is Joe Biden.\n",
      "Output: The president of the United States is [Calendar()] Joe Biden.\n",
      "Input: The current day of the week is Wednesday.\n",
      "Output:  The current day of the week is Thursday.\n",
      "Input: The current day of the week is Friday.\n",
      "Input: The current day of the week is Saturday.\n",
      "Input: The current day\n"
     ]
    }
   ],
   "source": [
    "generated = model.generate(gpt2tokenizer.encode(\"\"\"Your task is to add calls to a Calendar API to a piece of text. \n",
    "The API calls should help you get information required to complete the text.\n",
    "You can call the API by writing \"[Calendar()]\"\n",
    "Here are some examples of API calls:\n",
    "Input: Today is the first Friday of the year.\n",
    "Output: Today is the first [Calendar()] Friday of the year.\n",
    "Input: The president of the United States is Joe Biden.\n",
    "Output: The president of the United States is [Calendar()] Joe Biden.\n",
    "Input: The current day of the week is Wednesday.\n",
    "Output: \"\"\", return_tensors='pt'), max_length=170)\n",
    "\n",
    "for i, beam in enumerate(generated):\n",
    "    print(f\"{i}: {gpt2tokenizer.decode(beam)}\")\n",
    "\n"
   ]
  },
  {
   "cell_type": "code",
   "execution_count": 80,
   "metadata": {},
   "outputs": [],
   "source": [
    "from transformers import GPT2Tokenizer, GPT2LMHeadModel\n",
    "gpt2tokenizer = GPT2Tokenizer.from_pretrained('gpt2-medium')\n",
    "gpt2model = GPT2LMHeadModel.from_pretrained('gpt2-medium')\n",
    "\n",
    "model = gpt2model\n",
    "tokenizer = gpt2tokenizer\n"
   ]
  },
  {
   "cell_type": "code",
   "execution_count": 97,
   "metadata": {},
   "outputs": [
    {
     "data": {
      "text/plain": [
       "['� Colsight Russia', '� Colsight Russia']"
      ]
     },
     "execution_count": 97,
     "metadata": {},
     "output_type": "execute_result"
    }
   ],
   "source": [
    "a = [*map(tokenizer.decode, [[123, 1623, 82, 432, 3284], [123, 1623, 82, 432, 3284]])]\n",
    "a"
   ]
  },
  {
   "cell_type": "code",
   "execution_count": 111,
   "metadata": {},
   "outputs": [],
   "source": [
    "a = [[0]*200]*30\n",
    "for i in range(len(a)):\n",
    "    a[i][131]=1\n",
    "\n",
    "b = torch.zeros((30,200,))\n",
    "b[:,131]=1"
   ]
  },
  {
   "cell_type": "code",
   "execution_count": 112,
   "metadata": {},
   "outputs": [
    {
     "data": {
      "text/plain": [
       "[131,\n",
       " 131,\n",
       " 131,\n",
       " 131,\n",
       " 131,\n",
       " 131,\n",
       " 131,\n",
       " 131,\n",
       " 131,\n",
       " 131,\n",
       " 131,\n",
       " 131,\n",
       " 131,\n",
       " 131,\n",
       " 131,\n",
       " 131,\n",
       " 131,\n",
       " 131,\n",
       " 131,\n",
       " 131,\n",
       " 131,\n",
       " 131,\n",
       " 131,\n",
       " 131,\n",
       " 131,\n",
       " 131,\n",
       " 131,\n",
       " 131,\n",
       " 131,\n",
       " 131]"
      ]
     },
     "execution_count": 112,
     "metadata": {},
     "output_type": "execute_result"
    }
   ],
   "source": [
    "[a[i].index(1) for i in range(len(a))]"
   ]
  },
  {
   "cell_type": "code",
   "execution_count": 123,
   "metadata": {},
   "outputs": [],
   "source": [
    "torch.where(b==1)\n",
    "\n",
    "y = \"The quick brown fox jumped over the well in my wonderful new era of amazing people coming to see me live while i juggle some balls and deepthoat spaguetti because we love that naked italian pasta with a little tomato sauce and some parmesan with peper [coming out of the closet was not an easy thing and I am starting to think that my whole head is wired around being gay please send help take me out of this hell]\"\n",
    "x = tokenizer.encode(y)\n"
   ]
  },
  {
   "cell_type": "code",
   "execution_count": 129,
   "metadata": {},
   "outputs": [],
   "source": [
    "\n",
    "API_START_STR = ' ['\n",
    "API_END_STR = ']'\n",
    "DELIMITER_STR = '→'\n",
    "\n",
    "\n",
    "# create_function_regex():\n",
    "api_start_regex, api_end_regex = map(\n",
    "    re.escape, (API_START_STR, API_END_STR))\n",
    "API_CALL_REGEX = rf'{api_start_regex}.*?{api_end_regex}'\n",
    "\n",
    "\n",
    "def has_api_calls(text: str):\n",
    "    matches = re.findall(API_CALL_REGEX, text)\n",
    "    return len(matches) > 0\n",
    "\n",
    "\n",
    "def has_api_tokens(data: list):\n",
    "    try:\n",
    "        start = data.index(685)\n",
    "        data.index(60, start)\n",
    "        return True\n",
    "    except ValueError:\n",
    "        # Index excepts if it doesn't find the value\n",
    "        return False\n"
   ]
  },
  {
   "cell_type": "code",
   "execution_count": 128,
   "metadata": {},
   "outputs": [
    {
     "data": {
      "text/plain": [
       "[60]"
      ]
     },
     "execution_count": 128,
     "metadata": {},
     "output_type": "execute_result"
    }
   ],
   "source": [
    "tokenizer.encode(']')"
   ]
  },
  {
   "cell_type": "code",
   "execution_count": null,
   "metadata": {},
   "outputs": [],
   "source": [
    "tensor([[1.2000, 1.2000, 1.2000, 1.2000, 1.2000, 1.2000, 1.2000, 1.2000, 1.2000,         1.2000, 1.2000, 1.2000, 1.2000, 1.2000, 1.2000, 1.2000, 1.2000, 1.2000,         1.2000, 1.2000, 1.2000, 1.2000, 1.2000, 1.0000],\n",
    "       [1.2000, 1.2000, 1.2000, 1.2000, 1.2000, 1.2000, 1.2000, 1.2000, 1.2000,         1.2000, 1.2000, 1.2000, 1.2000, 1.2000, 1.2000, 1.2000, 1.2000, 1.2000,         1.2000, 1.2000, 1.2000, 1.0000, 0.8000, 0.6000]])\n",
    "\n",
    "tensor([[1.2000, 1.2000, 1.2000, 1.2000, 1.2000, 1.2000, 1.2000, 1.2000, 1.2000,         1.2000, 1.2000, 1.2000, 1.2000, 1.0000],\n",
    "       [1.2000, 1.2000, 1.2000, 1.2000, 1.2000, 1.2000, 1.2000, 1.2000, 1.2000,         1.2000, 1.2000, 1.0000, 0.8000, 0.6000]])\n"
   ]
  },
  {
   "cell_type": "code",
   "execution_count": 144,
   "metadata": {},
   "outputs": [
    {
     "name": "stdout",
     "output_type": "stream",
     "text": [
      "Average time for list of elements: 0.037817864418029784\n",
      "Average time for torch tensor: 0.03810071063041687\n"
     ]
    }
   ],
   "source": [
    "import time\n",
    "\n",
    "\n",
    "times_list = []\n",
    "times_torch = []\n",
    "\n",
    "for i in range(1000):\n",
    "    # Measure time to search for index of element 1 in list a\n",
    "    start = time.time()\n",
    "    #a[131] = i\n",
    "    #c = a.index(1)\n",
    "    #[a[i].index(1) for i in range(len(a))]\n",
    "\n",
    "    #d = torch.tensor(a)\n",
    "    #c = has_api_tokens(x)\n",
    "\n",
    "    c = [*map(tokenizer.decode, a)]\n",
    "    times_list.append(time.time()-start)\n",
    "\n",
    "    # Measure time to search for index of element 1 in torch.tensor b\n",
    "    start = time.time()\n",
    "    #b[131] = i\n",
    "    #c = torch.where(b==1)[0]\n",
    "    #c = torch.where(b == 1)[0]\n",
    "    #d = b.tolist()\n",
    "    #c = has_api_calls(y)\n",
    "\n",
    "    c = [tokenizer.decode(a[i]) for i in range(len(a))]\n",
    "    times_torch.append(time.time()-start)\n",
    "\n",
    "\n",
    "print(f\"Average time for list of elements: {sum(times_list)/len(times_list)}\")\n",
    "print(f\"Average time for torch tensor: {sum(times_torch)/len(times_torch)}\")\n"
   ]
  },
  {
   "cell_type": "code",
   "execution_count": 138,
   "metadata": {},
   "outputs": [
    {
     "data": {
      "text/plain": [
       "['!']"
      ]
     },
     "execution_count": 138,
     "metadata": {},
     "output_type": "execute_result"
    }
   ],
   "source": [
    "[*map(tokenizer.decode, [0])]\n"
   ]
  },
  {
   "cell_type": "code",
   "execution_count": 152,
   "metadata": {},
   "outputs": [
    {
     "data": {
      "text/plain": [
       "tensor([0, 0, 0, 0, 0, 0, 1, 2, 3, 4, 5, 6, 7, 8, 9])"
      ]
     },
     "execution_count": 152,
     "metadata": {},
     "output_type": "execute_result"
    }
   ],
   "source": [
    "((2==torch.tensor([1,3,3,56,3,4,2,6,4,2,5,6,2,2,2])).cumsum(-1) > 0).cumsum(-1)"
   ]
  },
  {
   "cell_type": "code",
   "execution_count": 351,
   "metadata": {},
   "outputs": [
    {
     "data": {
      "application/vnd.jupyter.widget-view+json": {
       "model_id": "8aaca59a12ee478bb00b46ee5cfc171b",
       "version_major": 2,
       "version_minor": 0
      },
      "text/plain": [
       "Downloading (…)lve/main/config.json:   0%|          | 0.00/930 [00:00<?, ?B/s]"
      ]
     },
     "metadata": {},
     "output_type": "display_data"
    },
    {
     "data": {
      "application/vnd.jupyter.widget-view+json": {
       "model_id": "d04612d19e78450a878b3a86c92e5e41",
       "version_major": 2,
       "version_minor": 0
      },
      "text/plain": [
       "Downloading (…)\"pytorch_model.bin\";:   0%|          | 0.00/24.2G [00:00<?, ?B/s]"
      ]
     },
     "metadata": {},
     "output_type": "display_data"
    },
    {
     "ename": "KeyboardInterrupt",
     "evalue": "",
     "output_type": "error",
     "traceback": [
      "\u001b[1;31m---------------------------------------------------------------------------\u001b[0m",
      "\u001b[1;31mKeyboardInterrupt\u001b[0m                         Traceback (most recent call last)",
      "\u001b[1;32mc:\\Users\\jorge\\Documents\\master\\Modules\\Project\\Toolformer\\toolformer-pytorch\\test.ipynb Cell 11\u001b[0m in \u001b[0;36m3\n\u001b[0;32m      <a href='vscode-notebook-cell:/c%3A/Users/jorge/Documents/master/Modules/Project/Toolformer/toolformer-pytorch/test.ipynb#X34sZmlsZQ%3D%3D?line=0'>1</a>\u001b[0m \u001b[39mfrom\u001b[39;00m \u001b[39mtransformers\u001b[39;00m \u001b[39mimport\u001b[39;00m AutoModelForCausalLM, AutoTokenizer\n\u001b[1;32m----> <a href='vscode-notebook-cell:/c%3A/Users/jorge/Documents/master/Modules/Project/Toolformer/toolformer-pytorch/test.ipynb#X34sZmlsZQ%3D%3D?line=2'>3</a>\u001b[0m model \u001b[39m=\u001b[39m AutoModelForCausalLM\u001b[39m.\u001b[39;49mfrom_pretrained(\u001b[39m\"\u001b[39;49m\u001b[39mEleutherAI/gpt-j-6B\u001b[39;49m\u001b[39m\"\u001b[39;49m)\n\u001b[0;32m      <a href='vscode-notebook-cell:/c%3A/Users/jorge/Documents/master/Modules/Project/Toolformer/toolformer-pytorch/test.ipynb#X34sZmlsZQ%3D%3D?line=3'>4</a>\u001b[0m tokenizer \u001b[39m=\u001b[39m AutoTokenizer\u001b[39m.\u001b[39mfrom_pretrained(\u001b[39m\"\u001b[39m\u001b[39mEleutherAI/gpt-j-6B\u001b[39m\u001b[39m\"\u001b[39m)\n",
      "File \u001b[1;32m~\\AppData\\Local\\Packages\\PythonSoftwareFoundation.Python.3.10_qbz5n2kfra8p0\\LocalCache\\local-packages\\Python310\\site-packages\\transformers\\models\\auto\\auto_factory.py:464\u001b[0m, in \u001b[0;36m_BaseAutoModelClass.from_pretrained\u001b[1;34m(cls, pretrained_model_name_or_path, *model_args, **kwargs)\u001b[0m\n\u001b[0;32m    462\u001b[0m \u001b[39melif\u001b[39;00m \u001b[39mtype\u001b[39m(config) \u001b[39min\u001b[39;00m \u001b[39mcls\u001b[39m\u001b[39m.\u001b[39m_model_mapping\u001b[39m.\u001b[39mkeys():\n\u001b[0;32m    463\u001b[0m     model_class \u001b[39m=\u001b[39m _get_model_class(config, \u001b[39mcls\u001b[39m\u001b[39m.\u001b[39m_model_mapping)\n\u001b[1;32m--> 464\u001b[0m     \u001b[39mreturn\u001b[39;00m model_class\u001b[39m.\u001b[39mfrom_pretrained(\n\u001b[0;32m    465\u001b[0m         pretrained_model_name_or_path, \u001b[39m*\u001b[39mmodel_args, config\u001b[39m=\u001b[39mconfig, \u001b[39m*\u001b[39m\u001b[39m*\u001b[39mhub_kwargs, \u001b[39m*\u001b[39m\u001b[39m*\u001b[39mkwargs\n\u001b[0;32m    466\u001b[0m     )\n\u001b[0;32m    467\u001b[0m \u001b[39mraise\u001b[39;00m \u001b[39mValueError\u001b[39;00m(\n\u001b[0;32m    468\u001b[0m     \u001b[39mf\u001b[39m\u001b[39m\"\u001b[39m\u001b[39mUnrecognized configuration class \u001b[39m\u001b[39m{\u001b[39;00mconfig\u001b[39m.\u001b[39m\u001b[39m__class__\u001b[39m\u001b[39m}\u001b[39;00m\u001b[39m for this kind of AutoModel: \u001b[39m\u001b[39m{\u001b[39;00m\u001b[39mcls\u001b[39m\u001b[39m.\u001b[39m\u001b[39m__name__\u001b[39m\u001b[39m}\u001b[39;00m\u001b[39m.\u001b[39m\u001b[39m\\n\u001b[39;00m\u001b[39m\"\u001b[39m\n\u001b[0;32m    469\u001b[0m     \u001b[39mf\u001b[39m\u001b[39m\"\u001b[39m\u001b[39mModel type should be one of \u001b[39m\u001b[39m{\u001b[39;00m\u001b[39m'\u001b[39m\u001b[39m, \u001b[39m\u001b[39m'\u001b[39m\u001b[39m.\u001b[39mjoin(c\u001b[39m.\u001b[39m\u001b[39m__name__\u001b[39m\u001b[39m \u001b[39m\u001b[39mfor\u001b[39;00m\u001b[39m \u001b[39mc\u001b[39m \u001b[39m\u001b[39min\u001b[39;00m\u001b[39m \u001b[39m\u001b[39mcls\u001b[39m\u001b[39m.\u001b[39m_model_mapping\u001b[39m.\u001b[39mkeys())\u001b[39m}\u001b[39;00m\u001b[39m.\u001b[39m\u001b[39m\"\u001b[39m\n\u001b[0;32m    470\u001b[0m )\n",
      "File \u001b[1;32m~\\AppData\\Local\\Packages\\PythonSoftwareFoundation.Python.3.10_qbz5n2kfra8p0\\LocalCache\\local-packages\\Python310\\site-packages\\transformers\\modeling_utils.py:2208\u001b[0m, in \u001b[0;36mPreTrainedModel.from_pretrained\u001b[1;34m(cls, pretrained_model_name_or_path, *model_args, **kwargs)\u001b[0m\n\u001b[0;32m   2193\u001b[0m \u001b[39mtry\u001b[39;00m:\n\u001b[0;32m   2194\u001b[0m     \u001b[39m# Load from URL or cache if already cached\u001b[39;00m\n\u001b[0;32m   2195\u001b[0m     cached_file_kwargs \u001b[39m=\u001b[39m \u001b[39mdict\u001b[39m(\n\u001b[0;32m   2196\u001b[0m         cache_dir\u001b[39m=\u001b[39mcache_dir,\n\u001b[0;32m   2197\u001b[0m         force_download\u001b[39m=\u001b[39mforce_download,\n\u001b[1;32m   (...)\u001b[0m\n\u001b[0;32m   2206\u001b[0m         _commit_hash\u001b[39m=\u001b[39mcommit_hash,\n\u001b[0;32m   2207\u001b[0m     )\n\u001b[1;32m-> 2208\u001b[0m     resolved_archive_file \u001b[39m=\u001b[39m cached_file(pretrained_model_name_or_path, filename, \u001b[39m*\u001b[39m\u001b[39m*\u001b[39mcached_file_kwargs)\n\u001b[0;32m   2210\u001b[0m     \u001b[39m# Since we set _raise_exceptions_for_missing_entries=False, we don't get an exception but a None\u001b[39;00m\n\u001b[0;32m   2211\u001b[0m     \u001b[39m# result when internet is up, the repo and revision exist, but the file does not.\u001b[39;00m\n\u001b[0;32m   2212\u001b[0m     \u001b[39mif\u001b[39;00m resolved_archive_file \u001b[39mis\u001b[39;00m \u001b[39mNone\u001b[39;00m \u001b[39mand\u001b[39;00m filename \u001b[39m==\u001b[39m SAFE_WEIGHTS_NAME:\n\u001b[0;32m   2213\u001b[0m         \u001b[39m# Maybe the checkpoint is sharded, we try to grab the index name in this case.\u001b[39;00m\n",
      "File \u001b[1;32m~\\AppData\\Local\\Packages\\PythonSoftwareFoundation.Python.3.10_qbz5n2kfra8p0\\LocalCache\\local-packages\\Python310\\site-packages\\transformers\\utils\\hub.py:409\u001b[0m, in \u001b[0;36mcached_file\u001b[1;34m(path_or_repo_id, filename, cache_dir, force_download, resume_download, proxies, use_auth_token, revision, local_files_only, subfolder, user_agent, _raise_exceptions_for_missing_entries, _raise_exceptions_for_connection_errors, _commit_hash)\u001b[0m\n\u001b[0;32m    406\u001b[0m user_agent \u001b[39m=\u001b[39m http_user_agent(user_agent)\n\u001b[0;32m    407\u001b[0m \u001b[39mtry\u001b[39;00m:\n\u001b[0;32m    408\u001b[0m     \u001b[39m# Load from URL or cache if already cached\u001b[39;00m\n\u001b[1;32m--> 409\u001b[0m     resolved_file \u001b[39m=\u001b[39m hf_hub_download(\n\u001b[0;32m    410\u001b[0m         path_or_repo_id,\n\u001b[0;32m    411\u001b[0m         filename,\n\u001b[0;32m    412\u001b[0m         subfolder\u001b[39m=\u001b[39;49m\u001b[39mNone\u001b[39;49;00m \u001b[39mif\u001b[39;49;00m \u001b[39mlen\u001b[39;49m(subfolder) \u001b[39m==\u001b[39;49m \u001b[39m0\u001b[39;49m \u001b[39melse\u001b[39;49;00m subfolder,\n\u001b[0;32m    413\u001b[0m         revision\u001b[39m=\u001b[39;49mrevision,\n\u001b[0;32m    414\u001b[0m         cache_dir\u001b[39m=\u001b[39;49mcache_dir,\n\u001b[0;32m    415\u001b[0m         user_agent\u001b[39m=\u001b[39;49muser_agent,\n\u001b[0;32m    416\u001b[0m         force_download\u001b[39m=\u001b[39;49mforce_download,\n\u001b[0;32m    417\u001b[0m         proxies\u001b[39m=\u001b[39;49mproxies,\n\u001b[0;32m    418\u001b[0m         resume_download\u001b[39m=\u001b[39;49mresume_download,\n\u001b[0;32m    419\u001b[0m         use_auth_token\u001b[39m=\u001b[39;49muse_auth_token,\n\u001b[0;32m    420\u001b[0m         local_files_only\u001b[39m=\u001b[39;49mlocal_files_only,\n\u001b[0;32m    421\u001b[0m     )\n\u001b[0;32m    423\u001b[0m \u001b[39mexcept\u001b[39;00m RepositoryNotFoundError:\n\u001b[0;32m    424\u001b[0m     \u001b[39mraise\u001b[39;00m \u001b[39mEnvironmentError\u001b[39;00m(\n\u001b[0;32m    425\u001b[0m         \u001b[39mf\u001b[39m\u001b[39m\"\u001b[39m\u001b[39m{\u001b[39;00mpath_or_repo_id\u001b[39m}\u001b[39;00m\u001b[39m is not a local folder and is not a valid model identifier \u001b[39m\u001b[39m\"\u001b[39m\n\u001b[0;32m    426\u001b[0m         \u001b[39m\"\u001b[39m\u001b[39mlisted on \u001b[39m\u001b[39m'\u001b[39m\u001b[39mhttps://huggingface.co/models\u001b[39m\u001b[39m'\u001b[39m\u001b[39m\\n\u001b[39;00m\u001b[39mIf this is a private repository, make sure to \u001b[39m\u001b[39m\"\u001b[39m\n\u001b[0;32m    427\u001b[0m         \u001b[39m\"\u001b[39m\u001b[39mpass a token having permission to this repo with `use_auth_token` or log in with \u001b[39m\u001b[39m\"\u001b[39m\n\u001b[0;32m    428\u001b[0m         \u001b[39m\"\u001b[39m\u001b[39m`huggingface-cli login` and pass `use_auth_token=True`.\u001b[39m\u001b[39m\"\u001b[39m\n\u001b[0;32m    429\u001b[0m     )\n",
      "File \u001b[1;32m~\\AppData\\Local\\Packages\\PythonSoftwareFoundation.Python.3.10_qbz5n2kfra8p0\\LocalCache\\local-packages\\Python310\\site-packages\\huggingface_hub\\utils\\_validators.py:124\u001b[0m, in \u001b[0;36mvalidate_hf_hub_args.<locals>._inner_fn\u001b[1;34m(*args, **kwargs)\u001b[0m\n\u001b[0;32m    119\u001b[0m \u001b[39mif\u001b[39;00m check_use_auth_token:\n\u001b[0;32m    120\u001b[0m     kwargs \u001b[39m=\u001b[39m smoothly_deprecate_use_auth_token(\n\u001b[0;32m    121\u001b[0m         fn_name\u001b[39m=\u001b[39mfn\u001b[39m.\u001b[39m\u001b[39m__name__\u001b[39m, has_token\u001b[39m=\u001b[39mhas_token, kwargs\u001b[39m=\u001b[39mkwargs\n\u001b[0;32m    122\u001b[0m     )\n\u001b[1;32m--> 124\u001b[0m \u001b[39mreturn\u001b[39;00m fn(\u001b[39m*\u001b[39margs, \u001b[39m*\u001b[39m\u001b[39m*\u001b[39mkwargs)\n",
      "File \u001b[1;32m~\\AppData\\Local\\Packages\\PythonSoftwareFoundation.Python.3.10_qbz5n2kfra8p0\\LocalCache\\local-packages\\Python310\\site-packages\\huggingface_hub\\file_download.py:1283\u001b[0m, in \u001b[0;36mhf_hub_download\u001b[1;34m(repo_id, filename, subfolder, repo_type, revision, library_name, library_version, cache_dir, user_agent, force_download, force_filename, proxies, etag_timeout, resume_download, token, local_files_only, legacy_cache_layout)\u001b[0m\n\u001b[0;32m   1280\u001b[0m \u001b[39mwith\u001b[39;00m temp_file_manager() \u001b[39mas\u001b[39;00m temp_file:\n\u001b[0;32m   1281\u001b[0m     logger\u001b[39m.\u001b[39minfo(\u001b[39m\"\u001b[39m\u001b[39mdownloading \u001b[39m\u001b[39m%s\u001b[39;00m\u001b[39m to \u001b[39m\u001b[39m%s\u001b[39;00m\u001b[39m\"\u001b[39m, url, temp_file\u001b[39m.\u001b[39mname)\n\u001b[1;32m-> 1283\u001b[0m     http_get(\n\u001b[0;32m   1284\u001b[0m         url_to_download,\n\u001b[0;32m   1285\u001b[0m         temp_file,\n\u001b[0;32m   1286\u001b[0m         proxies\u001b[39m=\u001b[39;49mproxies,\n\u001b[0;32m   1287\u001b[0m         resume_size\u001b[39m=\u001b[39;49mresume_size,\n\u001b[0;32m   1288\u001b[0m         headers\u001b[39m=\u001b[39;49mheaders,\n\u001b[0;32m   1289\u001b[0m     )\n\u001b[0;32m   1291\u001b[0m logger\u001b[39m.\u001b[39minfo(\u001b[39m\"\u001b[39m\u001b[39mstoring \u001b[39m\u001b[39m%s\u001b[39;00m\u001b[39m in cache at \u001b[39m\u001b[39m%s\u001b[39;00m\u001b[39m\"\u001b[39m, url, blob_path)\n\u001b[0;32m   1292\u001b[0m _chmod_and_replace(temp_file\u001b[39m.\u001b[39mname, blob_path)\n",
      "File \u001b[1;32m~\\AppData\\Local\\Packages\\PythonSoftwareFoundation.Python.3.10_qbz5n2kfra8p0\\LocalCache\\local-packages\\Python310\\site-packages\\huggingface_hub\\file_download.py:530\u001b[0m, in \u001b[0;36mhttp_get\u001b[1;34m(url, temp_file, proxies, resume_size, headers, timeout, max_retries)\u001b[0m\n\u001b[0;32m    520\u001b[0m     displayed_name \u001b[39m=\u001b[39m content_disposition\u001b[39m.\u001b[39msplit(\u001b[39m\"\u001b[39m\u001b[39mfilename=\u001b[39m\u001b[39m\"\u001b[39m)[\u001b[39m-\u001b[39m\u001b[39m1\u001b[39m]\n\u001b[0;32m    522\u001b[0m progress \u001b[39m=\u001b[39m tqdm(\n\u001b[0;32m    523\u001b[0m     unit\u001b[39m=\u001b[39m\u001b[39m\"\u001b[39m\u001b[39mB\u001b[39m\u001b[39m\"\u001b[39m,\n\u001b[0;32m    524\u001b[0m     unit_scale\u001b[39m=\u001b[39m\u001b[39mTrue\u001b[39;00m,\n\u001b[1;32m   (...)\u001b[0m\n\u001b[0;32m    528\u001b[0m     disable\u001b[39m=\u001b[39m\u001b[39mbool\u001b[39m(logger\u001b[39m.\u001b[39mgetEffectiveLevel() \u001b[39m==\u001b[39m logging\u001b[39m.\u001b[39mNOTSET),\n\u001b[0;32m    529\u001b[0m )\n\u001b[1;32m--> 530\u001b[0m \u001b[39mfor\u001b[39;00m chunk \u001b[39min\u001b[39;00m r\u001b[39m.\u001b[39miter_content(chunk_size\u001b[39m=\u001b[39m\u001b[39m10\u001b[39m \u001b[39m*\u001b[39m \u001b[39m1024\u001b[39m \u001b[39m*\u001b[39m \u001b[39m1024\u001b[39m):\n\u001b[0;32m    531\u001b[0m     \u001b[39mif\u001b[39;00m chunk:  \u001b[39m# filter out keep-alive new chunks\u001b[39;00m\n\u001b[0;32m    532\u001b[0m         progress\u001b[39m.\u001b[39mupdate(\u001b[39mlen\u001b[39m(chunk))\n",
      "File \u001b[1;32m~\\AppData\\Local\\Packages\\PythonSoftwareFoundation.Python.3.10_qbz5n2kfra8p0\\LocalCache\\local-packages\\Python310\\site-packages\\requests\\models.py:816\u001b[0m, in \u001b[0;36mResponse.iter_content.<locals>.generate\u001b[1;34m()\u001b[0m\n\u001b[0;32m    814\u001b[0m \u001b[39mif\u001b[39;00m \u001b[39mhasattr\u001b[39m(\u001b[39mself\u001b[39m\u001b[39m.\u001b[39mraw, \u001b[39m\"\u001b[39m\u001b[39mstream\u001b[39m\u001b[39m\"\u001b[39m):\n\u001b[0;32m    815\u001b[0m     \u001b[39mtry\u001b[39;00m:\n\u001b[1;32m--> 816\u001b[0m         \u001b[39myield from\u001b[39;00m \u001b[39mself\u001b[39m\u001b[39m.\u001b[39mraw\u001b[39m.\u001b[39mstream(chunk_size, decode_content\u001b[39m=\u001b[39m\u001b[39mTrue\u001b[39;00m)\n\u001b[0;32m    817\u001b[0m     \u001b[39mexcept\u001b[39;00m ProtocolError \u001b[39mas\u001b[39;00m e:\n\u001b[0;32m    818\u001b[0m         \u001b[39mraise\u001b[39;00m ChunkedEncodingError(e)\n",
      "File \u001b[1;32m~\\AppData\\Local\\Packages\\PythonSoftwareFoundation.Python.3.10_qbz5n2kfra8p0\\LocalCache\\local-packages\\Python310\\site-packages\\urllib3\\response.py:628\u001b[0m, in \u001b[0;36mHTTPResponse.stream\u001b[1;34m(self, amt, decode_content)\u001b[0m\n\u001b[0;32m    626\u001b[0m \u001b[39melse\u001b[39;00m:\n\u001b[0;32m    627\u001b[0m     \u001b[39mwhile\u001b[39;00m \u001b[39mnot\u001b[39;00m is_fp_closed(\u001b[39mself\u001b[39m\u001b[39m.\u001b[39m_fp):\n\u001b[1;32m--> 628\u001b[0m         data \u001b[39m=\u001b[39m \u001b[39mself\u001b[39;49m\u001b[39m.\u001b[39;49mread(amt\u001b[39m=\u001b[39;49mamt, decode_content\u001b[39m=\u001b[39;49mdecode_content)\n\u001b[0;32m    630\u001b[0m         \u001b[39mif\u001b[39;00m data:\n\u001b[0;32m    631\u001b[0m             \u001b[39myield\u001b[39;00m data\n",
      "File \u001b[1;32m~\\AppData\\Local\\Packages\\PythonSoftwareFoundation.Python.3.10_qbz5n2kfra8p0\\LocalCache\\local-packages\\Python310\\site-packages\\urllib3\\response.py:567\u001b[0m, in \u001b[0;36mHTTPResponse.read\u001b[1;34m(self, amt, decode_content, cache_content)\u001b[0m\n\u001b[0;32m    564\u001b[0m fp_closed \u001b[39m=\u001b[39m \u001b[39mgetattr\u001b[39m(\u001b[39mself\u001b[39m\u001b[39m.\u001b[39m_fp, \u001b[39m\"\u001b[39m\u001b[39mclosed\u001b[39m\u001b[39m\"\u001b[39m, \u001b[39mFalse\u001b[39;00m)\n\u001b[0;32m    566\u001b[0m \u001b[39mwith\u001b[39;00m \u001b[39mself\u001b[39m\u001b[39m.\u001b[39m_error_catcher():\n\u001b[1;32m--> 567\u001b[0m     data \u001b[39m=\u001b[39m \u001b[39mself\u001b[39;49m\u001b[39m.\u001b[39;49m_fp_read(amt) \u001b[39mif\u001b[39;00m \u001b[39mnot\u001b[39;00m fp_closed \u001b[39melse\u001b[39;00m \u001b[39mb\u001b[39m\u001b[39m\"\u001b[39m\u001b[39m\"\u001b[39m\n\u001b[0;32m    568\u001b[0m     \u001b[39mif\u001b[39;00m amt \u001b[39mis\u001b[39;00m \u001b[39mNone\u001b[39;00m:\n\u001b[0;32m    569\u001b[0m         flush_decoder \u001b[39m=\u001b[39m \u001b[39mTrue\u001b[39;00m\n",
      "File \u001b[1;32m~\\AppData\\Local\\Packages\\PythonSoftwareFoundation.Python.3.10_qbz5n2kfra8p0\\LocalCache\\local-packages\\Python310\\site-packages\\urllib3\\response.py:533\u001b[0m, in \u001b[0;36mHTTPResponse._fp_read\u001b[1;34m(self, amt)\u001b[0m\n\u001b[0;32m    530\u001b[0m     \u001b[39mreturn\u001b[39;00m buffer\u001b[39m.\u001b[39mgetvalue()\n\u001b[0;32m    531\u001b[0m \u001b[39melse\u001b[39;00m:\n\u001b[0;32m    532\u001b[0m     \u001b[39m# StringIO doesn't like amt=None\u001b[39;00m\n\u001b[1;32m--> 533\u001b[0m     \u001b[39mreturn\u001b[39;00m \u001b[39mself\u001b[39;49m\u001b[39m.\u001b[39;49m_fp\u001b[39m.\u001b[39;49mread(amt) \u001b[39mif\u001b[39;00m amt \u001b[39mis\u001b[39;00m \u001b[39mnot\u001b[39;00m \u001b[39mNone\u001b[39;00m \u001b[39melse\u001b[39;00m \u001b[39mself\u001b[39m\u001b[39m.\u001b[39m_fp\u001b[39m.\u001b[39mread()\n",
      "File \u001b[1;32mC:\\Program Files\\WindowsApps\\PythonSoftwareFoundation.Python.3.10_3.10.3056.0_x64__qbz5n2kfra8p0\\lib\\http\\client.py:466\u001b[0m, in \u001b[0;36mHTTPResponse.read\u001b[1;34m(self, amt)\u001b[0m\n\u001b[0;32m    463\u001b[0m \u001b[39mif\u001b[39;00m \u001b[39mself\u001b[39m\u001b[39m.\u001b[39mlength \u001b[39mis\u001b[39;00m \u001b[39mnot\u001b[39;00m \u001b[39mNone\u001b[39;00m \u001b[39mand\u001b[39;00m amt \u001b[39m>\u001b[39m \u001b[39mself\u001b[39m\u001b[39m.\u001b[39mlength:\n\u001b[0;32m    464\u001b[0m     \u001b[39m# clip the read to the \"end of response\"\u001b[39;00m\n\u001b[0;32m    465\u001b[0m     amt \u001b[39m=\u001b[39m \u001b[39mself\u001b[39m\u001b[39m.\u001b[39mlength\n\u001b[1;32m--> 466\u001b[0m s \u001b[39m=\u001b[39m \u001b[39mself\u001b[39;49m\u001b[39m.\u001b[39;49mfp\u001b[39m.\u001b[39;49mread(amt)\n\u001b[0;32m    467\u001b[0m \u001b[39mif\u001b[39;00m \u001b[39mnot\u001b[39;00m s \u001b[39mand\u001b[39;00m amt:\n\u001b[0;32m    468\u001b[0m     \u001b[39m# Ideally, we would raise IncompleteRead if the content-length\u001b[39;00m\n\u001b[0;32m    469\u001b[0m     \u001b[39m# wasn't satisfied, but it might break compatibility.\u001b[39;00m\n\u001b[0;32m    470\u001b[0m     \u001b[39mself\u001b[39m\u001b[39m.\u001b[39m_close_conn()\n",
      "File \u001b[1;32mC:\\Program Files\\WindowsApps\\PythonSoftwareFoundation.Python.3.10_3.10.3056.0_x64__qbz5n2kfra8p0\\lib\\socket.py:705\u001b[0m, in \u001b[0;36mSocketIO.readinto\u001b[1;34m(self, b)\u001b[0m\n\u001b[0;32m    703\u001b[0m \u001b[39mwhile\u001b[39;00m \u001b[39mTrue\u001b[39;00m:\n\u001b[0;32m    704\u001b[0m     \u001b[39mtry\u001b[39;00m:\n\u001b[1;32m--> 705\u001b[0m         \u001b[39mreturn\u001b[39;00m \u001b[39mself\u001b[39;49m\u001b[39m.\u001b[39;49m_sock\u001b[39m.\u001b[39;49mrecv_into(b)\n\u001b[0;32m    706\u001b[0m     \u001b[39mexcept\u001b[39;00m timeout:\n\u001b[0;32m    707\u001b[0m         \u001b[39mself\u001b[39m\u001b[39m.\u001b[39m_timeout_occurred \u001b[39m=\u001b[39m \u001b[39mTrue\u001b[39;00m\n",
      "File \u001b[1;32mC:\\Program Files\\WindowsApps\\PythonSoftwareFoundation.Python.3.10_3.10.3056.0_x64__qbz5n2kfra8p0\\lib\\ssl.py:1274\u001b[0m, in \u001b[0;36mSSLSocket.recv_into\u001b[1;34m(self, buffer, nbytes, flags)\u001b[0m\n\u001b[0;32m   1270\u001b[0m     \u001b[39mif\u001b[39;00m flags \u001b[39m!=\u001b[39m \u001b[39m0\u001b[39m:\n\u001b[0;32m   1271\u001b[0m         \u001b[39mraise\u001b[39;00m \u001b[39mValueError\u001b[39;00m(\n\u001b[0;32m   1272\u001b[0m           \u001b[39m\"\u001b[39m\u001b[39mnon-zero flags not allowed in calls to recv_into() on \u001b[39m\u001b[39m%s\u001b[39;00m\u001b[39m\"\u001b[39m \u001b[39m%\u001b[39m\n\u001b[0;32m   1273\u001b[0m           \u001b[39mself\u001b[39m\u001b[39m.\u001b[39m\u001b[39m__class__\u001b[39m)\n\u001b[1;32m-> 1274\u001b[0m     \u001b[39mreturn\u001b[39;00m \u001b[39mself\u001b[39;49m\u001b[39m.\u001b[39;49mread(nbytes, buffer)\n\u001b[0;32m   1275\u001b[0m \u001b[39melse\u001b[39;00m:\n\u001b[0;32m   1276\u001b[0m     \u001b[39mreturn\u001b[39;00m \u001b[39msuper\u001b[39m()\u001b[39m.\u001b[39mrecv_into(buffer, nbytes, flags)\n",
      "File \u001b[1;32mC:\\Program Files\\WindowsApps\\PythonSoftwareFoundation.Python.3.10_3.10.3056.0_x64__qbz5n2kfra8p0\\lib\\ssl.py:1130\u001b[0m, in \u001b[0;36mSSLSocket.read\u001b[1;34m(self, len, buffer)\u001b[0m\n\u001b[0;32m   1128\u001b[0m \u001b[39mtry\u001b[39;00m:\n\u001b[0;32m   1129\u001b[0m     \u001b[39mif\u001b[39;00m buffer \u001b[39mis\u001b[39;00m \u001b[39mnot\u001b[39;00m \u001b[39mNone\u001b[39;00m:\n\u001b[1;32m-> 1130\u001b[0m         \u001b[39mreturn\u001b[39;00m \u001b[39mself\u001b[39;49m\u001b[39m.\u001b[39;49m_sslobj\u001b[39m.\u001b[39;49mread(\u001b[39mlen\u001b[39;49m, buffer)\n\u001b[0;32m   1131\u001b[0m     \u001b[39melse\u001b[39;00m:\n\u001b[0;32m   1132\u001b[0m         \u001b[39mreturn\u001b[39;00m \u001b[39mself\u001b[39m\u001b[39m.\u001b[39m_sslobj\u001b[39m.\u001b[39mread(\u001b[39mlen\u001b[39m)\n",
      "\u001b[1;31mKeyboardInterrupt\u001b[0m: "
     ]
    }
   ],
   "source": [
    "from transformers import AutoModelForCausalLM, AutoTokenizer\n",
    "\n",
    "model = AutoModelForCausalLM.from_pretrained(\"EleutherAI/gpt-j-6B\")\n",
    "tokenizer = AutoTokenizer.from_pretrained(\"EleutherAI/gpt-j-6B\")\n"
   ]
  },
  {
   "cell_type": "code",
   "execution_count": 258,
   "metadata": {},
   "outputs": [
    {
     "name": "stderr",
     "output_type": "stream",
     "text": [
      "The attention mask and the pad token id were not set. As a consequence, you may observe unexpected behavior. Please pass your input's `attention_mask` to obtain reliable results.\n",
      "Setting `pad_token_id` to `eos_token_id`:50256 for open-end generation.\n"
     ]
    },
    {
     "name": "stdout",
     "output_type": "stream",
     "text": [
      "tensor([[ 7120,  4876,   318,   284,   751,  3848,   284,   257, 26506,  7824,\n",
      "           284,   257,  3704,   286,  2420,    13,   198,   464,  7824,  3848,\n",
      "           815,  1037,   345,   651,  1321,  2672,   284,  1844,   262,  2420,\n",
      "            13,   198,  1639,   460,   869,   262,  7824,   416,  3597, 12878,\n",
      "          9771,  9239,  3419, 30866,   198,  4342,   389,   617,  6096,   286,\n",
      "          7824,  3848,    25,   198, 20560,    25,  6288,   318,   262,   717,\n",
      "          3217,   286,   262,   614,    13,   198, 26410,    25,  6288,   318,\n",
      "           262,   717,   685,  9771,  9239,  3419,    60,  3217,   286,   262,\n",
      "           614,    13,   198, 20560,    25,   383,  1893,   286,   262,  1578,\n",
      "          1829,   318,  5689, 21010,    13,   198, 26410,    25,   383,  1893,\n",
      "           286,   262,  1578,  1829,   318,   685,  9771,  9239,  3419,    60,\n",
      "          5689, 21010,    13,   198, 20560,    25,   383,  1459,  1110,   286,\n",
      "           262,  1285,   318,  3583,    13,   198, 26410,    25,   220,  1849,\n",
      "           464,  1459,  1110,   286,   262,  1285,   318,   685,  9771,  9239,\n",
      "          3419,    60,  3583,    13,   198, 20560,    25,   383,  1459,  1227,\n",
      "           318,  3269,    13,   198, 26410,    25,   220,  1849,   464,  1459,\n",
      "          1227,   318,   685,  9771,  9239,  3419,    60,  3269,    13,   198,\n",
      "         20560,    25,   383,  1459,  1110,   286,   262,  1285,   318,  3321,\n",
      "            13,   198, 26410,    25,   220,  1849,   464,  1459,  1110,   286,\n",
      "           262,  1285,   318,   685,  9771,  9239,  3419,    60,  3321,    13,\n",
      "           198, 20560,    25,   383,  1459,  1227,   318,  3945,    13,   198,\n",
      "         26410,    25,   220,  1849,   464,  1459,  1227,   318,   685,  9771,\n",
      "          9239,  3419,    60,  3945,    13,   198, 20560,    25,   383,  1459,\n",
      "          1110,   286,   262,  1285,   318,  3502,    13,   198, 26410,    25,\n",
      "           220,  1849,   464,  1459,  1110,   286,   262,  1285,   318,   685,\n",
      "          9771,  9239,  3419,    60,  3502,    13,   198, 20560,    25,   383,\n",
      "          1459,  1110,   286,   262,  1285,   318,  3321,    13,   198, 26410,\n",
      "            25,   220,  1849,   464,  1459,  1110,   286,   262,  1285,   318,\n",
      "           685,  9771,  9239,  3419,    60,  3321,    13,   198, 20560,    25,\n",
      "           383,  1459,  1227,   318,  2805,    13,   198, 26410,    25,   220,\n",
      "          1849,   464,  1459,  1227,   318,   685,  9771,  9239,  3419,    60,\n",
      "          2805,    13,   198, 20560,    25,   383,  1459,  1110,   286,   262,\n",
      "          1285,   318,  3502,    13,   198, 26410,    25,   220,  1849,   464,\n",
      "          1459,  1110,   286,   262,  1285,   318,   685,  9771,  9239,  3419,\n",
      "            60,  3502,    13,   198, 20560,    25,   383,  1459,  1110,   286,\n",
      "           262,  1285,   318,  3321,    13,   198, 26410,    25,   220,  1849,\n",
      "           464,  1459,  1110,   286,   262,  1285,   318,   685,  9771,  9239,\n",
      "          3419,    60,  3321,    13,   198, 20560,    25,   383,  1459,  1227,\n",
      "           318,  3035,    13,   198, 26410,    25,   220,  1849,   464,  1459,\n",
      "          1227,   318,   685,  9771,  9239,  3419,    60,  3035,    13,   198]])\n"
     ]
    }
   ],
   "source": [
    "\n",
    "generated = model.generate(torch.tensor(gpt2tokenizer.encode(\"\"\"Your task is to add calls to a Calendar API to a piece of text.\n",
    "The API calls should help you get information required to complete the text.\n",
    "You can call the API by writing \"[Calendar()]\"\n",
    "Here are some examples of API calls:\n",
    "Input: Today is the first Friday of the year.\n",
    "Output: Today is the first [Calendar()] Friday of the year.\n",
    "Input: The president of the United States is Joe Biden.\n",
    "Output: The president of the United States is [Calendar()] Joe Biden.\n",
    "Input: The current day of the week is Wednesday.\n",
    "Output: \"\"\")).unsqueeze(0),\n",
    "               do_sample=False,\n",
    "               top_k=50,\n",
    "               max_length=400,\n",
    "               top_p=0.95)\n",
    "print(generated)\n",
    "\n",
    "\n",
    "\n",
    "\n"
   ]
  },
  {
   "attachments": {},
   "cell_type": "markdown",
   "metadata": {},
   "source": [
    "\n",
    "gpt2tokenizer.decode(generated)"
   ]
  },
  {
   "cell_type": "code",
   "execution_count": null,
   "metadata": {},
   "outputs": [
    {
     "data": {
      "text/plain": [
       "[685]"
      ]
     },
     "execution_count": 401,
     "metadata": {},
     "output_type": "execute_result"
    }
   ],
   "source": [
    "def calll(some):\n",
    "    some(' [')\n",
    "calll(gpt2tokenizer.encode)\n"
   ]
  },
  {
   "cell_type": "code",
   "execution_count": 266,
   "metadata": {},
   "outputs": [
    {
     "data": {
      "text/plain": [
       "\", I'm a little bit oficky \""
      ]
     },
     "execution_count": 266,
     "metadata": {},
     "output_type": "execute_result"
    }
   ],
   "source": [
    "\n",
    "\n",
    "generated = model(torch.tensor(gpt2tokenizer.encode(\"Hello, I'm a little bit  \")).unsqueeze(0), return_dict = False)\n",
    "\n",
    "sample = gumbel_sample(generated[0], temperature=0)\n",
    "\n",
    "gpt2tokenizer.decode(sample[0])\n"
   ]
  },
  {
   "cell_type": "code",
   "execution_count": 178,
   "metadata": {},
   "outputs": [
    {
     "data": {
      "text/plain": [
       "torch.Size([1, 5, 50257])"
      ]
     },
     "execution_count": 178,
     "metadata": {},
     "output_type": "execute_result"
    }
   ],
   "source": [
    "generated[0].shape"
   ]
  },
  {
   "cell_type": "code",
   "execution_count": null,
   "metadata": {},
   "outputs": [
    {
     "ename": "TypeError",
     "evalue": "filter_tokens_with_api_response() missing 1 required keyword-only argument: '__beartype_object_2519220931760'",
     "output_type": "error",
     "traceback": [
      "\u001b[1;31m---------------------------------------------------------------------------\u001b[0m",
      "\u001b[1;31mTypeError\u001b[0m                                 Traceback (most recent call last)",
      "\u001b[1;32mc:\\Users\\jorge\\Documents\\master\\Modules\\Project\\Toolformer\\toolformer-pytorch\\test.ipynb Cell 2\u001b[0m in \u001b[0;36m4\n\u001b[0;32m     <a href='vscode-notebook-cell:/c%3A/Users/jorge/Documents/master/Modules/Project/Toolformer/toolformer-pytorch/test.ipynb#W1sZmlsZQ%3D%3D?line=34'>35</a>\u001b[0m tokens_without_api_response[:, mock_start_pos \u001b[39m+\u001b[39m\n\u001b[0;32m     <a href='vscode-notebook-cell:/c%3A/Users/jorge/Documents/master/Modules/Project/Toolformer/toolformer-pytorch/test.ipynb#W1sZmlsZQ%3D%3D?line=35'>36</a>\u001b[0m                             mock_api_call_length] \u001b[39m=\u001b[39m mock_api_stop_id\n\u001b[0;32m     <a href='vscode-notebook-cell:/c%3A/Users/jorge/Documents/master/Modules/Project/Toolformer/toolformer-pytorch/test.ipynb#W1sZmlsZQ%3D%3D?line=37'>38</a>\u001b[0m \u001b[39m# filter\u001b[39;00m\n\u001b[1;32m---> <a href='vscode-notebook-cell:/c%3A/Users/jorge/Documents/master/Modules/Project/Toolformer/toolformer-pytorch/test.ipynb#W1sZmlsZQ%3D%3D?line=39'>40</a>\u001b[0m filtered_results \u001b[39m=\u001b[39m filter_tokens_with_api_response(\n\u001b[0;32m     <a href='vscode-notebook-cell:/c%3A/Users/jorge/Documents/master/Modules/Project/Toolformer/toolformer-pytorch/test.ipynb#W1sZmlsZQ%3D%3D?line=40'>41</a>\u001b[0m     model\u001b[39m=\u001b[39;49mpalm,\n\u001b[0;32m     <a href='vscode-notebook-cell:/c%3A/Users/jorge/Documents/master/Modules/Project/Toolformer/toolformer-pytorch/test.ipynb#W1sZmlsZQ%3D%3D?line=41'>42</a>\u001b[0m     tokens\u001b[39m=\u001b[39;49mtokens,\n\u001b[0;32m     <a href='vscode-notebook-cell:/c%3A/Users/jorge/Documents/master/Modules/Project/Toolformer/toolformer-pytorch/test.ipynb#W1sZmlsZQ%3D%3D?line=42'>43</a>\u001b[0m     tokens_with_api_response\u001b[39m=\u001b[39;49mtokens_with_api_response,\n\u001b[0;32m     <a href='vscode-notebook-cell:/c%3A/Users/jorge/Documents/master/Modules/Project/Toolformer/toolformer-pytorch/test.ipynb#W1sZmlsZQ%3D%3D?line=43'>44</a>\u001b[0m     tokens_without_api_response\u001b[39m=\u001b[39;49mtokens_without_api_response,\n\u001b[0;32m     <a href='vscode-notebook-cell:/c%3A/Users/jorge/Documents/master/Modules/Project/Toolformer/toolformer-pytorch/test.ipynb#W1sZmlsZQ%3D%3D?line=44'>45</a>\u001b[0m     filter_threshold\u001b[39m=\u001b[39;49m\u001b[39m1.\u001b[39;49m,\n\u001b[0;32m     <a href='vscode-notebook-cell:/c%3A/Users/jorge/Documents/master/Modules/Project/Toolformer/toolformer-pytorch/test.ipynb#W1sZmlsZQ%3D%3D?line=45'>46</a>\u001b[0m     api_start_token_id\u001b[39m=\u001b[39;49mmock_api_start_id,\n\u001b[0;32m     <a href='vscode-notebook-cell:/c%3A/Users/jorge/Documents/master/Modules/Project/Toolformer/toolformer-pytorch/test.ipynb#W1sZmlsZQ%3D%3D?line=46'>47</a>\u001b[0m     api_end_token_id\u001b[39m=\u001b[39;49mmock_api_stop_id\n\u001b[0;32m     <a href='vscode-notebook-cell:/c%3A/Users/jorge/Documents/master/Modules/Project/Toolformer/toolformer-pytorch/test.ipynb#W1sZmlsZQ%3D%3D?line=47'>48</a>\u001b[0m )\n",
      "\u001b[1;31mTypeError\u001b[0m: filter_tokens_with_api_response() missing 1 required keyword-only argument: '__beartype_object_2519220931760'"
     ]
    }
   ],
   "source": [
    "import torch\n",
    "\n",
    "from toolformer import (\n",
    "    Toolformer,\n",
    "    PaLM,\n",
    "    filter_tokens_with_api_response\n",
    ")\n",
    "\n",
    "# model\n",
    "\n",
    "palm = PaLM(\n",
    "    dim=512,\n",
    "    num_tokens=20000,\n",
    "    depth=2,\n",
    "    heads=8,\n",
    "    dim_head=64\n",
    ")\n",
    "\n",
    "# mock some tokens\n",
    "\n",
    "mock_start_pos = 512\n",
    "mock_api_call_length = 10\n",
    "mock_api_start_id = 19998\n",
    "mock_api_stop_id = 19999\n",
    "\n",
    "tokens = torch.randint(0, 20000, (10, 1024))\n",
    "tokens_with_api_response = torch.randint(0, 20000, (10, 1024))\n",
    "tokens_without_api_response = torch.randint(0, 20000, (10, 1024))\n",
    "\n",
    "tokens_with_api_response[:, mock_start_pos] = mock_api_start_id\n",
    "tokens_with_api_response[:, mock_start_pos +\n",
    "                         mock_api_call_length] = mock_api_stop_id\n",
    "\n",
    "tokens_without_api_response[:, mock_start_pos] = mock_api_start_id\n",
    "tokens_without_api_response[:, mock_start_pos +\n",
    "                            mock_api_call_length] = mock_api_stop_id\n",
    "\n",
    "# filter\n",
    "\n",
    "filtered_results = filter_tokens_with_api_response(\n",
    "    model=palm,\n",
    "    tokens=tokens,\n",
    "    tokens_with_api_response=tokens_with_api_response,\n",
    "    tokens_without_api_response=tokens_without_api_response,\n",
    "    filter_threshold=1.,\n",
    "    api_start_token_id=mock_api_start_id,\n",
    "    api_end_token_id=mock_api_stop_id\n",
    ")\n"
   ]
  },
  {
   "cell_type": "code",
   "execution_count": 7,
   "metadata": {},
   "outputs": [
    {
     "data": {
      "text/plain": [
       "tensor([[16756, 11169,     7,  ...,  8491,  9478,  4724],\n",
       "        [18024, 10254, 12160,  ...,  4099, 16059,   416],\n",
       "        [15490, 14841,  5138,  ..., 19624, 14182, 13067],\n",
       "        ...,\n",
       "        [19918, 12996, 10202,  ...,   799,   288, 13060],\n",
       "        [18284,  6445,  3069,  ...,  5963,  4224,  6263],\n",
       "        [ 3653,  1374,  6638,  ..., 15801, 12650, 17566]])"
      ]
     },
     "execution_count": 7,
     "metadata": {},
     "output_type": "execute_result"
    }
   ],
   "source": [
    "tokens\n"
   ]
  },
  {
   "cell_type": "code",
   "execution_count": 64,
   "metadata": {},
   "outputs": [
    {
     "name": "stdout",
     "output_type": "stream",
     "text": [
      "4\n",
      "a48_augment_database.sh\n",
      "8\n",
      "aa48_augment_database.sh\n",
      "_\n",
      "aaa48_augment_database.sh\n",
      "a\n",
      "aaaa48_augment_database.sh\n",
      "u\n",
      "aaaaa48_augment_database.sh\n",
      "g\n",
      "aaaaaa48_augment_database.sh\n",
      "m\n",
      "aaaaaaa48_augment_database.sh\n",
      "e\n",
      "aaaaaaaa48_augment_database.sh\n",
      "n\n",
      "aaaaaaaaa48_augment_database.sh\n",
      "t\n",
      "aaaaaaaaaa48_augment_database.sh\n",
      "_\n",
      "aaaaaaaaaaa48_augment_database.sh\n",
      "d\n",
      "aaaaaaaaaaaa48_augment_database.sh\n",
      "a\n",
      "aaaaaaaaaaaaa48_augment_database.sh\n",
      "t\n",
      "aaaaaaaaaaaaaa48_augment_database.sh\n",
      "a\n",
      "aaaaaaaaaaaaaaa48_augment_database.sh\n",
      "b\n",
      "aaaaaaaaaaaaaaaa48_augment_database.sh\n",
      "a\n",
      "aaaaaaaaaaaaaaaaa48_augment_database.sh\n",
      "s\n",
      "aaaaaaaaaaaaaaaaaa48_augment_database.sh\n",
      "e\n",
      "aaaaaaaaaaaaaaaaaaa48_augment_database.sh\n",
      ".\n",
      "aaaaaaaaaaaaaaaaaaaa48_augment_database.sh\n",
      "s\n",
      "aaaaaaaaaaaaaaaaaaaaa48_augment_database.sh\n",
      "h\n",
      "aaaaaaaaaaaaaaaaaaaaaa48_augment_database.sh\n",
      "aaaaaaaaaaaaaaaaaaaaaa48_augment_database.sh\n"
     ]
    }
   ],
   "source": [
    "a = \"48_augment_database.sh\"\n",
    "for i in a:\n",
    "    a = \"a\" + a\n",
    "    print(i)\n",
    "    print(a)\n",
    "\n",
    "print(a)"
   ]
  },
  {
   "cell_type": "code",
   "execution_count": 28,
   "metadata": {},
   "outputs": [],
   "source": [
    "import re\n",
    "\n",
    "def length_of_match(pattern, input_string):\n",
    "    match = re.search(pattern, input_string)\n",
    "    if match:\n",
    "        return match.end() - match.start()\n",
    "    else:\n",
    "        return 0\n",
    "\n",
    "def balance_parentheses(string):\n",
    "    # While there exists \"()\", remove all ocasions of \"()\" from the string\n",
    "    while re.search(r'\\(\\)', string):\n",
    "        string = re.sub(r'\\(\\)', '', string)\n",
    "    # Find the starting substring that contains only \"(\" and \")\":\n",
    "    closing_at_start_count = length_of_match(r'^\\)+', string)\n",
    "    if closing_at_start_count > 0:\n",
    "        string = string[closing_at_start_count:]\n",
    "    opening_at_start_count = length_of_match(r'^\\(+', string)\n",
    "\n",
    "    opening_at_end_count = length_of_match(r'\\(+$', string)\n",
    "    if opening_at_end_count > 0:\n",
    "        string = string[:-opening_at_end_count]\n",
    "    closing_at_end_count = length_of_match(r'\\)+$', string)\n",
    "\n",
    "    remove = min(opening_at_start_count, closing_at_end_count)\n",
    "    string = string[remove:-remove] if remove > 0 else string\n",
    "\n",
    "    opening_count = string.count('(')\n",
    "    closing_count = string.count(')')\n",
    "    \n",
    "    diff = opening_count - closing_count\n",
    "    if diff > 0:\n",
    "        string = string + ')' * diff\n",
    "    else:\n",
    "        string = '(' * diff + string\n",
    "\n",
    "    if max(opening_count, closing_count) > 0:\n",
    "        while compensate_match(string):\n",
    "            string = '(' + string + ')'\n",
    "\n",
    "    return string\n",
    "\n",
    "def compensate_match(string):\n",
    "    # Get the string after the first \"(\":\n",
    "    print(string)\n",
    "    first_open = re.search(r'\\(', string)\n",
    "    if not first_open:\n",
    "        return re.search(r'\\)', string) is not None\n",
    "    string = string[first_open.end():]\n",
    "\n",
    "    first = re.search(r'[\\(\\)]', string)\n",
    "    if not first:\n",
    "        return True\n",
    "    \n",
    "    if first.group() == '(':\n",
    "        return compensate_match(string)\n",
    "    else:\n",
    "        pending = string[first.end():]\n",
    "        if len(pending) == 0:\n",
    "            return False\n",
    "        \n",
    "        return compensate_match(pending)"
   ]
  },
  {
   "cell_type": "code",
   "execution_count": 29,
   "metadata": {},
   "outputs": [],
   "source": [
    "print(balance_parentheses(\"(1+2)*3)/2\"))"
   ]
  },
  {
   "cell_type": "code",
   "execution_count": 8,
   "metadata": {},
   "outputs": [],
   "source": [
    "\n",
    "from operator import truediv, mul, add, sub\n",
    "\n",
    "def Calculator(input_query: str, extraargs=None, first=True, detail = False):\n",
    "    operators = {\n",
    "        '+': add,\n",
    "        '-': sub,\n",
    "        '*': mul,\n",
    "        '/': truediv\n",
    "    }\n",
    "    if first:\n",
    "        # calc_preprocess_args(input_query) FOR INFERENCE\n",
    "        # Strip whitespace\n",
    "        input_query = input_query.replace(\" \", \"\")\n",
    "        input_query = balance_parentheses(input_query)\n",
    "\n",
    "    # Handle expressions within parentheses\n",
    "    while '(' in input_query:\n",
    "        start = input_query.rindex('(')\n",
    "        end = start + input_query[start:].index(')')\n",
    "        sub_expr = input_query[start + 1:end]\n",
    "        result, op_performed = Calculator(sub_expr, first=False, detail = True)\n",
    "        first = not op_performed if first else first\n",
    "        print(\"Input query: \", input_query)\n",
    "        input_query = input_query[:start] + str(result) + input_query[end + 1:]\n",
    "        print(\"Input query: \", input_query)\n",
    "\n",
    "    try:\n",
    "        number = float(input_query)\n",
    "        if first:\n",
    "            raise Exception(\"Useless API call. 1 digit is not a calculation.\")\n",
    "        else:\n",
    "            print(f\"For expression {input_query}, the answer is {number}\")\n",
    "            return (number, False) if detail else number\n",
    "    except ValueError as e:\n",
    "        pass\n",
    "\n",
    "    for c in operators.keys():\n",
    "        left, operator, right = input_query.partition(c)\n",
    "        if len(operator) > 0:\n",
    "            answer = round(operators[operator](Calculator(left, first=False), Calculator(right, first=False)), 2)\n",
    "            print(f\"For expression {input_query}, the answer is {answer}\")\n",
    "            answer = str(answer) if first else answer\n",
    "            return (answer, True) if detail else answer"
   ]
  },
  {
   "cell_type": "code",
   "execution_count": 81,
   "metadata": {},
   "outputs": [
    {
     "data": {
      "text/plain": [
       "'1+2)*(3/2))'"
      ]
     },
     "execution_count": 81,
     "metadata": {},
     "output_type": "execute_result"
    }
   ],
   "source": [
    "balance_parentheses(\"(1+2)*(3/2\")"
   ]
  },
  {
   "cell_type": "code",
   "execution_count": 61,
   "metadata": {},
   "outputs": [
    {
     "name": "stdout",
     "output_type": "stream",
     "text": [
      "For expression 2, the answer is 2.0\n",
      "For expression 3, the answer is 3.0\n",
      "For expression 4, the answer is 4.0\n",
      "For expression 3*4, the answer is 12.0\n",
      "For expression 2+3*4, the answer is 14.0\n",
      "Test passed: 2+3*4 = 14.0\n",
      "For expression 2, the answer is 2.0\n",
      "For expression 3, the answer is 3.0\n",
      "For expression 2+3, the answer is 5.0\n",
      "Input query:  (2+3)*4\n",
      "Input query:  5.0*4\n",
      "For expression 5.0, the answer is 5.0\n",
      "For expression 4, the answer is 4.0\n",
      "For expression 5.0*4, the answer is 20.0\n",
      "Test passed: (2+3)*4 = 20.0\n",
      "For expression 3, the answer is 3.0\n",
      "For expression 4, the answer is 4.0\n",
      "For expression 3+4, the answer is 7.0\n",
      "Input query:  2+(3+4)*5\n",
      "Input query:  2+7.0*5\n",
      "For expression 2, the answer is 2.0\n",
      "For expression 7.0, the answer is 7.0\n",
      "For expression 5, the answer is 5.0\n",
      "For expression 7.0*5, the answer is 35.0\n",
      "For expression 2+7.0*5, the answer is 37.0\n",
      "Test passed: 2+(3+4)*5 = 37.0\n",
      "For expression 1, the answer is 1.0\n",
      "For expression 2, the answer is 2.0\n",
      "For expression 3, the answer is 3.0\n",
      "For expression 2*3, the answer is 6.0\n",
      "For expression 4, the answer is 4.0\n",
      "For expression 2, the answer is 2.0\n",
      "For expression 4/2, the answer is 2.0\n",
      "For expression 2*3-4/2, the answer is 4.0\n",
      "For expression 1+2*3-4/2, the answer is 5.0\n",
      "Test passed: 1+2*3-4/2 = 5.0\n",
      "For expression 2, the answer is 2.0\n",
      "For expression 3, the answer is 3.0\n",
      "For expression 2+3, the answer is 5.0\n",
      "Input query:  (2+3)*4\n",
      "Input query:  5.0*4\n",
      "For expression 5.0, the answer is 5.0\n",
      "For expression 4, the answer is 4.0\n",
      "For expression 5.0*4, the answer is 20.0\n",
      "Test passed: (2+3)*4) = 20.0\n",
      "For expression 1, the answer is 1.0\n",
      "For expression 2, the answer is 2.0\n",
      "For expression 1+2, the answer is 3.0\n",
      "Input query:  ((1+2)*3)/2\n",
      "Input query:  (3.0*3)/2\n",
      "For expression 3.0, the answer is 3.0\n",
      "For expression 3, the answer is 3.0\n",
      "For expression 3.0*3, the answer is 9.0\n",
      "Input query:  (3.0*3)/2\n",
      "Input query:  9.0/2\n",
      "For expression 9.0, the answer is 9.0\n",
      "For expression 2, the answer is 2.0\n",
      "For expression 9.0/2, the answer is 4.5\n",
      "Test passed: (1+2)*3)/2 = 4.5\n",
      "For expression 3, the answer is 3.0\n",
      "For expression 4, the answer is 4.0\n",
      "For expression 3+4, the answer is 7.0\n",
      "Input query:  2+((3+4)*5)\n",
      "Input query:  2+(7.0*5)\n",
      "For expression 7.0, the answer is 7.0\n",
      "For expression 5, the answer is 5.0\n",
      "For expression 7.0*5, the answer is 35.0\n",
      "Input query:  2+(7.0*5)\n",
      "Input query:  2+35.0\n",
      "For expression 2, the answer is 2.0\n",
      "For expression 35.0, the answer is 35.0\n",
      "For expression 2+35.0, the answer is 37.0\n",
      "Test passed: 2+((3+4)*5 = 37.0\n",
      "For expression 1, the answer is 1.0\n",
      "For expression 2, the answer is 2.0\n",
      "For expression 1+2, the answer is 3.0\n",
      "Input query:  ((1+2)*3)/2\n",
      "Input query:  (3.0*3)/2\n",
      "For expression 3.0, the answer is 3.0\n",
      "For expression 3, the answer is 3.0\n",
      "For expression 3.0*3, the answer is 9.0\n",
      "Input query:  (3.0*3)/2\n",
      "Input query:  9.0/2\n",
      "For expression 9.0, the answer is 9.0\n",
      "For expression 2, the answer is 2.0\n",
      "For expression 9.0/2, the answer is 4.5\n",
      "Test passed: ((1+2)*3)/2 = 4.5\n",
      "For expression 2, the answer is 2.0\n",
      "For expression 3, the answer is 3.0\n",
      "For expression 2+3, the answer is 5.0\n",
      "Input query:  (2+3)*4\n",
      "Input query:  5.0*4\n",
      "For expression 5.0, the answer is 5.0\n",
      "For expression 4, the answer is 4.0\n",
      "For expression 5.0*4, the answer is 20.0\n",
      "Test passed: (((((2+3)*4 = 20.0\n",
      "For expression 2, the answer is 2.0\n",
      "For expression 3, the answer is 3.0\n",
      "For expression 2+3, the answer is 5.0\n",
      "Input query:  (2+3)*4\n",
      "Input query:  5.0*4\n",
      "For expression 5.0, the answer is 5.0\n",
      "For expression 4, the answer is 4.0\n",
      "For expression 5.0*4, the answer is 20.0\n",
      "Test passed: ))))2+3)*4 = 20.0\n",
      "For expression 2, the answer is 2.0\n",
      "For expression 3, the answer is 3.0\n",
      "For expression 2+3, the answer is 5.0\n",
      "Input query:  (2+3)*4\n",
      "Input query:  5.0*4\n",
      "For expression 5.0, the answer is 5.0\n",
      "For expression 4, the answer is 4.0\n",
      "For expression 5.0*4, the answer is 20.0\n",
      "Test passed: )2+3)*4( = 20.0\n",
      "For expression 2, the answer is 2.0\n",
      "For expression 3, the answer is 3.0\n",
      "For expression 2+3, the answer is 5.0\n",
      "Input query:  ((2+3)*4)\n",
      "Input query:  (5.0*4)\n",
      "For expression 5.0, the answer is 5.0\n",
      "For expression 4, the answer is 4.0\n",
      "For expression 5.0*4, the answer is 20.0\n",
      "Input query:  (5.0*4)\n",
      "Input query:  20.0\n",
      "For expression 20.0, the answer is 20.0\n",
      "Test passed: ((2+3)*4)) = 20.0\n",
      "For expression 1, the answer is 1.0\n",
      "For expression 2, the answer is 2.0\n",
      "For expression 1+2, the answer is 3.0\n",
      "Input query:  ((1+2)*3)/2\n",
      "Input query:  (3.0*3)/2\n",
      "For expression 3.0, the answer is 3.0\n",
      "For expression 3, the answer is 3.0\n",
      "For expression 3.0*3, the answer is 9.0\n",
      "Input query:  (3.0*3)/2\n",
      "Input query:  9.0/2\n",
      "For expression 9.0, the answer is 9.0\n",
      "For expression 2, the answer is 2.0\n",
      "For expression 9.0/2, the answer is 4.5\n",
      "Test passed: ((1+2)*3)/2))) = 4.5\n",
      "For expression 2, the answer is 2.0\n",
      "For expression 3, the answer is 3.0\n",
      "For expression 2+3, the answer is 5.0\n",
      "Test passed: 2+3 = 5.0\n",
      "For expression 3, the answer is 3.0\n",
      "For expression 4, the answer is 4.0\n",
      "For expression 3*4, the answer is 12.0\n",
      "Test passed: 3*4 = 12.0\n",
      "For expression 1, the answer is 1.0\n",
      "For expression 2, the answer is 2.0\n",
      "For expression 1-2, the answer is -1.0\n",
      "Test passed: 1-2 = -1.0\n",
      "For expression 4, the answer is 4.0\n",
      "For expression 2, the answer is 2.0\n",
      "For expression 4/2, the answer is 2.0\n",
      "Test passed: 4/2 = 2.0\n",
      "For expression 3, the answer is 3.0\n",
      "For expression 4, the answer is 4.0\n",
      "For expression 3*4, the answer is 12.0\n",
      "Input query:  2+(3*4)\n",
      "Input query:  2+12.0\n",
      "For expression 2, the answer is 2.0\n",
      "For expression 12.0, the answer is 12.0\n",
      "For expression 2+12.0, the answer is 14.0\n",
      "Test passed: (2+(3*4 = 14.0\n",
      "Test failed: (1+2)*(3/2. Error: substring not found\n"
     ]
    },
    {
     "ename": "ValueError",
     "evalue": "substring not found",
     "output_type": "error",
     "traceback": [
      "\u001b[0;31m---------------------------------------------------------------------------\u001b[0m",
      "\u001b[0;31mValueError\u001b[0m                                Traceback (most recent call last)",
      "Cell \u001b[0;32mIn[61], line 50\u001b[0m\n\u001b[1;32m     47\u001b[0m             \u001b[39mprint\u001b[39m(\u001b[39mf\u001b[39m\u001b[39m\"\u001b[39m\u001b[39mTest failed: \u001b[39m\u001b[39m{\u001b[39;00mexpression\u001b[39m}\u001b[39;00m\u001b[39m. Error: \u001b[39m\u001b[39m{\u001b[39;00me\u001b[39m}\u001b[39;00m\u001b[39m\"\u001b[39m)\n\u001b[1;32m     48\u001b[0m             \u001b[39mraise\u001b[39;00m e\n\u001b[0;32m---> 50\u001b[0m run_calculator_tests()\n",
      "Cell \u001b[0;32mIn[61], line 48\u001b[0m, in \u001b[0;36mrun_calculator_tests\u001b[0;34m()\u001b[0m\n\u001b[1;32m     46\u001b[0m \u001b[39mexcept\u001b[39;00m \u001b[39mException\u001b[39;00m \u001b[39mas\u001b[39;00m e:\n\u001b[1;32m     47\u001b[0m     \u001b[39mprint\u001b[39m(\u001b[39mf\u001b[39m\u001b[39m\"\u001b[39m\u001b[39mTest failed: \u001b[39m\u001b[39m{\u001b[39;00mexpression\u001b[39m}\u001b[39;00m\u001b[39m. Error: \u001b[39m\u001b[39m{\u001b[39;00me\u001b[39m}\u001b[39;00m\u001b[39m\"\u001b[39m)\n\u001b[0;32m---> 48\u001b[0m     \u001b[39mraise\u001b[39;00m e\n",
      "Cell \u001b[0;32mIn[61], line 42\u001b[0m, in \u001b[0;36mrun_calculator_tests\u001b[0;34m()\u001b[0m\n\u001b[1;32m     40\u001b[0m \u001b[39mfor\u001b[39;00m expression, expected_result \u001b[39min\u001b[39;00m test_cases:\n\u001b[1;32m     41\u001b[0m     \u001b[39mtry\u001b[39;00m:\n\u001b[0;32m---> 42\u001b[0m         result \u001b[39m=\u001b[39m Calculator(expression)\n\u001b[1;32m     43\u001b[0m         result \u001b[39m=\u001b[39m \u001b[39mfloat\u001b[39m(result)\n\u001b[1;32m     44\u001b[0m         \u001b[39massert\u001b[39;00m result \u001b[39m==\u001b[39m expected_result, \u001b[39mf\u001b[39m\u001b[39m\"\u001b[39m\u001b[39mExpected \u001b[39m\u001b[39m{\u001b[39;00mexpected_result\u001b[39m}\u001b[39;00m\u001b[39m, got \u001b[39m\u001b[39m{\u001b[39;00mresult\u001b[39m}\u001b[39;00m\u001b[39m\"\u001b[39m\n",
      "Cell \u001b[0;32mIn[59], line 19\u001b[0m, in \u001b[0;36mCalculator\u001b[0;34m(input_query, extraargs, first, detail)\u001b[0m\n\u001b[1;32m     17\u001b[0m \u001b[39mwhile\u001b[39;00m \u001b[39m'\u001b[39m\u001b[39m(\u001b[39m\u001b[39m'\u001b[39m \u001b[39min\u001b[39;00m input_query:\n\u001b[1;32m     18\u001b[0m     start \u001b[39m=\u001b[39m input_query\u001b[39m.\u001b[39mrindex(\u001b[39m'\u001b[39m\u001b[39m(\u001b[39m\u001b[39m'\u001b[39m)\n\u001b[0;32m---> 19\u001b[0m     end \u001b[39m=\u001b[39m start \u001b[39m+\u001b[39m input_query[start:]\u001b[39m.\u001b[39;49mindex(\u001b[39m'\u001b[39;49m\u001b[39m)\u001b[39;49m\u001b[39m'\u001b[39;49m)\n\u001b[1;32m     20\u001b[0m     sub_expr \u001b[39m=\u001b[39m input_query[start \u001b[39m+\u001b[39m \u001b[39m1\u001b[39m:end]\n\u001b[1;32m     21\u001b[0m     result, op_performed \u001b[39m=\u001b[39m Calculator(sub_expr, first\u001b[39m=\u001b[39m\u001b[39mFalse\u001b[39;00m, detail \u001b[39m=\u001b[39m \u001b[39mTrue\u001b[39;00m)\n",
      "\u001b[0;31mValueError\u001b[0m: substring not found"
     ]
    }
   ],
   "source": [
    "def run_calculator_tests():\n",
    "    test_cases = [\n",
    "        # Basic arithmetic expressions\n",
    "        (\"2+3*4\", 14.0),\n",
    "        (\"(2+3)*4\", 20.0),\n",
    "        (\"2+(3+4)*5\", 37.0),\n",
    "        (\"1+2*3-4/2\", 5.0),\n",
    "\n",
    "        # Unbalanced parentheses at the start and end\n",
    "        (\"(2+3)*4)\", 20.0),\n",
    "        (\"(1+2)*3)/2\", 4.5),\n",
    "\n",
    "        # Unbalanced parentheses in the middle\n",
    "        (\"2+((3+4)*5\", 37.0),\n",
    "        (\"((1+2)*3)/2\", 4.5),\n",
    "\n",
    "        # Only opening parentheses at the start\n",
    "        (\"(((((2+3)*4\", 20.0),\n",
    "\n",
    "        # Only closing parentheses at the start\n",
    "        (\"))))2+3)*4\", 20.0),\n",
    "\n",
    "        # Mismatched parentheses\n",
    "        (\")2+3)*4(\", 20.0),\n",
    "        (\"((2+3)*4))\", 20.0),\n",
    "        (\"((1+2)*3)/2)))\", 4.5),\n",
    "\n",
    "        # No parentheses, basic arithmetic\n",
    "        (\"2+3\", 5.0),\n",
    "        (\"3*4\", 12.0),\n",
    "        (\"1-2\", -1.0),\n",
    "        (\"4/2\", 2.0),\n",
    "\n",
    "        # Complex expression with unbalanced parentheses\n",
    "        (\"(2+(3*4\", 14.0),\n",
    "        (\"(1+2)*(3/2\", 4.5),\n",
    "        (\"(2+(3*4)-(5/2)+1\", 12.5),\n",
    "    ]\n",
    "\n",
    "    for expression, expected_result in test_cases:\n",
    "        try:\n",
    "            result = Calculator(expression)\n",
    "            result = float(result)\n",
    "            assert result == expected_result, f\"Expected {expected_result}, got {result}\"\n",
    "            print(f\"Test passed: {expression} = {expected_result}\")\n",
    "        except Exception as e:\n",
    "            print(f\"Test failed: {expression}. Error: {e}\")\n",
    "            raise e\n",
    "\n",
    "run_calculator_tests()"
   ]
  }
 ],
 "metadata": {
  "kernelspec": {
   "display_name": "Python 3",
   "language": "python",
   "name": "python3"
  },
  "language_info": {
   "codemirror_mode": {
    "name": "ipython",
    "version": 3
   },
   "file_extension": ".py",
   "mimetype": "text/x-python",
   "name": "python",
   "nbconvert_exporter": "python",
   "pygments_lexer": "ipython3",
   "version": "3.10.6"
  },
  "orig_nbformat": 4
 },
 "nbformat": 4,
 "nbformat_minor": 2
}
